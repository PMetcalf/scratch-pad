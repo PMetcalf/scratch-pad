{
 "metadata": {
  "language_info": {
   "codemirror_mode": {
    "name": "ipython",
    "version": 3
   },
   "file_extension": ".py",
   "mimetype": "text/x-python",
   "name": "python",
   "nbconvert_exporter": "python",
   "pygments_lexer": "ipython3",
   "version": "3.6.6-final"
  },
  "orig_nbformat": 2,
  "kernelspec": {
   "name": "python3",
   "display_name": "Python 3",
   "language": "python"
  }
 },
 "nbformat": 4,
 "nbformat_minor": 2,
 "cells": [
  {
   "cell_type": "code",
   "execution_count": 1,
   "metadata": {},
   "outputs": [],
   "source": [
    "# Module importations\n",
    "import pandas as pd\n",
    "from sklearn.ensemble import RandomForestRegressor\n",
    "from sklearn.model_selection import cross_val_score"
   ]
  },
  {
   "cell_type": "code",
   "execution_count": 2,
   "metadata": {},
   "outputs": [
    {
     "output_type": "execute_result",
     "data": {
      "text/plain": [
       "   Cement (component 1)(kg in a m^3 mixture)  \\\n",
       "0                                      540.0   \n",
       "1                                      540.0   \n",
       "2                                      332.5   \n",
       "3                                      332.5   \n",
       "4                                      198.6   \n",
       "\n",
       "   Blast Furnace Slag (component 2)(kg in a m^3 mixture)  \\\n",
       "0                                                0.0       \n",
       "1                                                0.0       \n",
       "2                                              142.5       \n",
       "3                                              142.5       \n",
       "4                                              132.4       \n",
       "\n",
       "   Fly Ash (component 3)(kg in a m^3 mixture)  \\\n",
       "0                                         0.0   \n",
       "1                                         0.0   \n",
       "2                                         0.0   \n",
       "3                                         0.0   \n",
       "4                                         0.0   \n",
       "\n",
       "   Water  (component 4)(kg in a m^3 mixture)  \\\n",
       "0                                      162.0   \n",
       "1                                      162.0   \n",
       "2                                      228.0   \n",
       "3                                      228.0   \n",
       "4                                      192.0   \n",
       "\n",
       "   Superplasticizer (component 5)(kg in a m^3 mixture)  \\\n",
       "0                                                2.5     \n",
       "1                                                2.5     \n",
       "2                                                0.0     \n",
       "3                                                0.0     \n",
       "4                                                0.0     \n",
       "\n",
       "   Coarse Aggregate  (component 6)(kg in a m^3 mixture)  \\\n",
       "0                                             1040.0      \n",
       "1                                             1055.0      \n",
       "2                                              932.0      \n",
       "3                                              932.0      \n",
       "4                                              978.4      \n",
       "\n",
       "   Fine Aggregate (component 7)(kg in a m^3 mixture)  Age (day)  \\\n",
       "0                                              676.0         28   \n",
       "1                                              676.0         28   \n",
       "2                                              594.0        270   \n",
       "3                                              594.0        365   \n",
       "4                                              825.5        360   \n",
       "\n",
       "   Concrete compressive strength(MPa, megapascals)   \n",
       "0                                         79.986111  \n",
       "1                                         61.887366  \n",
       "2                                         40.269535  \n",
       "3                                         41.052780  \n",
       "4                                         44.296075  "
      ],
      "text/html": "<div>\n<style scoped>\n    .dataframe tbody tr th:only-of-type {\n        vertical-align: middle;\n    }\n\n    .dataframe tbody tr th {\n        vertical-align: top;\n    }\n\n    .dataframe thead th {\n        text-align: right;\n    }\n</style>\n<table border=\"1\" class=\"dataframe\">\n  <thead>\n    <tr style=\"text-align: right;\">\n      <th></th>\n      <th>Cement (component 1)(kg in a m^3 mixture)</th>\n      <th>Blast Furnace Slag (component 2)(kg in a m^3 mixture)</th>\n      <th>Fly Ash (component 3)(kg in a m^3 mixture)</th>\n      <th>Water  (component 4)(kg in a m^3 mixture)</th>\n      <th>Superplasticizer (component 5)(kg in a m^3 mixture)</th>\n      <th>Coarse Aggregate  (component 6)(kg in a m^3 mixture)</th>\n      <th>Fine Aggregate (component 7)(kg in a m^3 mixture)</th>\n      <th>Age (day)</th>\n      <th>Concrete compressive strength(MPa, megapascals)</th>\n    </tr>\n  </thead>\n  <tbody>\n    <tr>\n      <th>0</th>\n      <td>540.0</td>\n      <td>0.0</td>\n      <td>0.0</td>\n      <td>162.0</td>\n      <td>2.5</td>\n      <td>1040.0</td>\n      <td>676.0</td>\n      <td>28</td>\n      <td>79.986111</td>\n    </tr>\n    <tr>\n      <th>1</th>\n      <td>540.0</td>\n      <td>0.0</td>\n      <td>0.0</td>\n      <td>162.0</td>\n      <td>2.5</td>\n      <td>1055.0</td>\n      <td>676.0</td>\n      <td>28</td>\n      <td>61.887366</td>\n    </tr>\n    <tr>\n      <th>2</th>\n      <td>332.5</td>\n      <td>142.5</td>\n      <td>0.0</td>\n      <td>228.0</td>\n      <td>0.0</td>\n      <td>932.0</td>\n      <td>594.0</td>\n      <td>270</td>\n      <td>40.269535</td>\n    </tr>\n    <tr>\n      <th>3</th>\n      <td>332.5</td>\n      <td>142.5</td>\n      <td>0.0</td>\n      <td>228.0</td>\n      <td>0.0</td>\n      <td>932.0</td>\n      <td>594.0</td>\n      <td>365</td>\n      <td>41.052780</td>\n    </tr>\n    <tr>\n      <th>4</th>\n      <td>198.6</td>\n      <td>132.4</td>\n      <td>0.0</td>\n      <td>192.0</td>\n      <td>0.0</td>\n      <td>978.4</td>\n      <td>825.5</td>\n      <td>360</td>\n      <td>44.296075</td>\n    </tr>\n  </tbody>\n</table>\n</div>"
     },
     "metadata": {},
     "execution_count": 2
    }
   ],
   "source": [
    "# Import dataset\n",
    "csv_string = r'C:\\Developer\\scratch-pad-python\\Datasets\\Concrete_Data.xls'\n",
    "df = pd.read_excel(csv_string)\n",
    "df.head()"
   ]
  },
  {
   "cell_type": "code",
   "execution_count": 3,
   "metadata": {},
   "outputs": [
    {
     "output_type": "stream",
     "name": "stdout",
     "text": [
      "<class 'pandas.core.frame.DataFrame'>\nRangeIndex: 1030 entries, 0 to 1029\nData columns (total 9 columns):\n #   Column                                                 Non-Null Count  Dtype  \n---  ------                                                 --------------  -----  \n 0   Cement (component 1)(kg in a m^3 mixture)              1030 non-null   float64\n 1   Blast Furnace Slag (component 2)(kg in a m^3 mixture)  1030 non-null   float64\n 2   Fly Ash (component 3)(kg in a m^3 mixture)             1030 non-null   float64\n 3   Water  (component 4)(kg in a m^3 mixture)              1030 non-null   float64\n 4   Superplasticizer (component 5)(kg in a m^3 mixture)    1030 non-null   float64\n 5   Coarse Aggregate  (component 6)(kg in a m^3 mixture)   1030 non-null   float64\n 6   Fine Aggregate (component 7)(kg in a m^3 mixture)      1030 non-null   float64\n 7   Age (day)                                              1030 non-null   int64  \n 8   Concrete compressive strength(MPa, megapascals)        1030 non-null   float64\ndtypes: float64(8), int64(1)\nmemory usage: 72.5 KB\n"
     ]
    }
   ],
   "source": [
    "df.info()"
   ]
  },
  {
   "cell_type": "code",
   "execution_count": 4,
   "metadata": {},
   "outputs": [
    {
     "output_type": "execute_result",
     "data": {
      "text/plain": [
       "                                                     count        mean  \\\n",
       "Cement (component 1)(kg in a m^3 mixture)           1030.0  281.165631   \n",
       "Blast Furnace Slag (component 2)(kg in a m^3 mi...  1030.0   73.895485   \n",
       "Fly Ash (component 3)(kg in a m^3 mixture)          1030.0   54.187136   \n",
       "Water  (component 4)(kg in a m^3 mixture)           1030.0  181.566359   \n",
       "Superplasticizer (component 5)(kg in a m^3 mixt...  1030.0    6.203112   \n",
       "Coarse Aggregate  (component 6)(kg in a m^3 mix...  1030.0  972.918592   \n",
       "Fine Aggregate (component 7)(kg in a m^3 mixture)   1030.0  773.578883   \n",
       "Age (day)                                           1030.0   45.662136   \n",
       "Concrete compressive strength(MPa, megapascals)     1030.0   35.817836   \n",
       "\n",
       "                                                           std         min  \\\n",
       "Cement (component 1)(kg in a m^3 mixture)           104.507142  102.000000   \n",
       "Blast Furnace Slag (component 2)(kg in a m^3 mi...   86.279104    0.000000   \n",
       "Fly Ash (component 3)(kg in a m^3 mixture)           63.996469    0.000000   \n",
       "Water  (component 4)(kg in a m^3 mixture)            21.355567  121.750000   \n",
       "Superplasticizer (component 5)(kg in a m^3 mixt...    5.973492    0.000000   \n",
       "Coarse Aggregate  (component 6)(kg in a m^3 mix...   77.753818  801.000000   \n",
       "Fine Aggregate (component 7)(kg in a m^3 mixture)    80.175427  594.000000   \n",
       "Age (day)                                            63.169912    1.000000   \n",
       "Concrete compressive strength(MPa, megapascals)      16.705679    2.331808   \n",
       "\n",
       "                                                           25%         50%  \\\n",
       "Cement (component 1)(kg in a m^3 mixture)           192.375000  272.900000   \n",
       "Blast Furnace Slag (component 2)(kg in a m^3 mi...    0.000000   22.000000   \n",
       "Fly Ash (component 3)(kg in a m^3 mixture)            0.000000    0.000000   \n",
       "Water  (component 4)(kg in a m^3 mixture)           164.900000  185.000000   \n",
       "Superplasticizer (component 5)(kg in a m^3 mixt...    0.000000    6.350000   \n",
       "Coarse Aggregate  (component 6)(kg in a m^3 mix...  932.000000  968.000000   \n",
       "Fine Aggregate (component 7)(kg in a m^3 mixture)   730.950000  779.510000   \n",
       "Age (day)                                             7.000000   28.000000   \n",
       "Concrete compressive strength(MPa, megapascals)      23.707115   34.442774   \n",
       "\n",
       "                                                            75%          max  \n",
       "Cement (component 1)(kg in a m^3 mixture)            350.000000   540.000000  \n",
       "Blast Furnace Slag (component 2)(kg in a m^3 mi...   142.950000   359.400000  \n",
       "Fly Ash (component 3)(kg in a m^3 mixture)           118.270000   200.100000  \n",
       "Water  (component 4)(kg in a m^3 mixture)            192.000000   247.000000  \n",
       "Superplasticizer (component 5)(kg in a m^3 mixt...    10.160000    32.200000  \n",
       "Coarse Aggregate  (component 6)(kg in a m^3 mix...  1029.400000  1145.000000  \n",
       "Fine Aggregate (component 7)(kg in a m^3 mixture)    824.000000   992.600000  \n",
       "Age (day)                                             56.000000   365.000000  \n",
       "Concrete compressive strength(MPa, megapascals)       46.136287    82.599225  "
      ],
      "text/html": "<div>\n<style scoped>\n    .dataframe tbody tr th:only-of-type {\n        vertical-align: middle;\n    }\n\n    .dataframe tbody tr th {\n        vertical-align: top;\n    }\n\n    .dataframe thead th {\n        text-align: right;\n    }\n</style>\n<table border=\"1\" class=\"dataframe\">\n  <thead>\n    <tr style=\"text-align: right;\">\n      <th></th>\n      <th>count</th>\n      <th>mean</th>\n      <th>std</th>\n      <th>min</th>\n      <th>25%</th>\n      <th>50%</th>\n      <th>75%</th>\n      <th>max</th>\n    </tr>\n  </thead>\n  <tbody>\n    <tr>\n      <th>Cement (component 1)(kg in a m^3 mixture)</th>\n      <td>1030.0</td>\n      <td>281.165631</td>\n      <td>104.507142</td>\n      <td>102.000000</td>\n      <td>192.375000</td>\n      <td>272.900000</td>\n      <td>350.000000</td>\n      <td>540.000000</td>\n    </tr>\n    <tr>\n      <th>Blast Furnace Slag (component 2)(kg in a m^3 mixture)</th>\n      <td>1030.0</td>\n      <td>73.895485</td>\n      <td>86.279104</td>\n      <td>0.000000</td>\n      <td>0.000000</td>\n      <td>22.000000</td>\n      <td>142.950000</td>\n      <td>359.400000</td>\n    </tr>\n    <tr>\n      <th>Fly Ash (component 3)(kg in a m^3 mixture)</th>\n      <td>1030.0</td>\n      <td>54.187136</td>\n      <td>63.996469</td>\n      <td>0.000000</td>\n      <td>0.000000</td>\n      <td>0.000000</td>\n      <td>118.270000</td>\n      <td>200.100000</td>\n    </tr>\n    <tr>\n      <th>Water  (component 4)(kg in a m^3 mixture)</th>\n      <td>1030.0</td>\n      <td>181.566359</td>\n      <td>21.355567</td>\n      <td>121.750000</td>\n      <td>164.900000</td>\n      <td>185.000000</td>\n      <td>192.000000</td>\n      <td>247.000000</td>\n    </tr>\n    <tr>\n      <th>Superplasticizer (component 5)(kg in a m^3 mixture)</th>\n      <td>1030.0</td>\n      <td>6.203112</td>\n      <td>5.973492</td>\n      <td>0.000000</td>\n      <td>0.000000</td>\n      <td>6.350000</td>\n      <td>10.160000</td>\n      <td>32.200000</td>\n    </tr>\n    <tr>\n      <th>Coarse Aggregate  (component 6)(kg in a m^3 mixture)</th>\n      <td>1030.0</td>\n      <td>972.918592</td>\n      <td>77.753818</td>\n      <td>801.000000</td>\n      <td>932.000000</td>\n      <td>968.000000</td>\n      <td>1029.400000</td>\n      <td>1145.000000</td>\n    </tr>\n    <tr>\n      <th>Fine Aggregate (component 7)(kg in a m^3 mixture)</th>\n      <td>1030.0</td>\n      <td>773.578883</td>\n      <td>80.175427</td>\n      <td>594.000000</td>\n      <td>730.950000</td>\n      <td>779.510000</td>\n      <td>824.000000</td>\n      <td>992.600000</td>\n    </tr>\n    <tr>\n      <th>Age (day)</th>\n      <td>1030.0</td>\n      <td>45.662136</td>\n      <td>63.169912</td>\n      <td>1.000000</td>\n      <td>7.000000</td>\n      <td>28.000000</td>\n      <td>56.000000</td>\n      <td>365.000000</td>\n    </tr>\n    <tr>\n      <th>Concrete compressive strength(MPa, megapascals)</th>\n      <td>1030.0</td>\n      <td>35.817836</td>\n      <td>16.705679</td>\n      <td>2.331808</td>\n      <td>23.707115</td>\n      <td>34.442774</td>\n      <td>46.136287</td>\n      <td>82.599225</td>\n    </tr>\n  </tbody>\n</table>\n</div>"
     },
     "metadata": {},
     "execution_count": 4
    }
   ],
   "source": [
    "df.describe().T"
   ]
  },
  {
   "cell_type": "code",
   "execution_count": 5,
   "metadata": {},
   "outputs": [
    {
     "output_type": "stream",
     "name": "stdout",
     "text": [
      "MAE Baseline Score: 8.397\n"
     ]
    }
   ],
   "source": [
    "# Create baseline model from un-augmented dataset\n",
    "X = df.copy()\n",
    "y = X.pop('Concrete compressive strength(MPa, megapascals) ')\n",
    "\n",
    "# Train & score baseline model\n",
    "baseline = RandomForestRegressor(criterion = 'mae', random_state = 0)\n",
    "\n",
    "baseline_score = cross_val_score(\n",
    "    baseline, X, y, cv = 5, scoring = 'neg_mean_absolute_error'\n",
    ")\n",
    "\n",
    "baseline_score = -1 * baseline_score.mean()\n",
    "\n",
    "print(f'MAE Baseline Score: {baseline_score:.4}')"
   ]
  },
  {
   "cell_type": "code",
   "execution_count": 6,
   "metadata": {},
   "outputs": [],
   "source": [
    "# Engineer a Feature based on ingredients ratio\n",
    "X = df.copy()\n",
    "y = X.pop('Concrete compressive strength(MPa, megapascals) ')\n",
    "\n",
    "# Create synthetic features\n",
    "X['FCRatio'] = X['Fine Aggregate (component 7)(kg in a m^3 mixture)'] / X['Coarse Aggregate  (component 6)(kg in a m^3 mixture)']\n",
    "X['AggCntRatio'] = (X['Fine Aggregate (component 7)(kg in a m^3 mixture)'] + X['Coarse Aggregate  (component 6)(kg in a m^3 mixture)']) / X['Cement (component 1)(kg in a m^3 mixture)']\n",
    "X['WtrCmtRatio'] = X['Water  (component 4)(kg in a m^3 mixture)'] / X['Cement (component 1)(kg in a m^3 mixture)']\n",
    "\n",
    "# Train and score model on dataset with additional ratio features\n",
    "model = RandomForestRegressor(criterion = 'mae', random_state = 0)\n",
    "score = cross_val_score(\n",
    "    model, X, y, cv = 5, scoring = 'neg_mean_absolute_error'\n",
    ")\n",
    "score = -1 * score.mean()\n",
    "\n",
    "print(f'MAE score with ratio features: {score:.4}')"
   ]
  },
  {
   "cell_type": "code",
   "execution_count": null,
   "metadata": {},
   "outputs": [],
   "source": []
  }
 ]
}