{
 "metadata": {
  "language_info": {
   "codemirror_mode": {
    "name": "ipython",
    "version": 3
   },
   "file_extension": ".py",
   "mimetype": "text/x-python",
   "name": "python",
   "nbconvert_exporter": "python",
   "pygments_lexer": "ipython3",
   "version": "3.6.6-final"
  },
  "orig_nbformat": 2,
  "kernelspec": {
   "name": "python3",
   "display_name": "Python 3.6.6 64-bit",
   "metadata": {
    "interpreter": {
     "hash": "3f92393cf9312ed24f4ccae2fdf5dee1635074d2034ccfaec2d070f8b1ae4f04"
    }
   }
  }
 },
 "nbformat": 4,
 "nbformat_minor": 2,
 "cells": [
  {
   "cell_type": "code",
   "execution_count": 2,
   "metadata": {},
   "outputs": [],
   "source": [
    "# Module Importations\n",
    "import matplotlib.pyplot as plt\n",
    "import numpy as np\n",
    "import pandas as pd\n",
    "import seaborn as sns"
   ]
  },
  {
   "cell_type": "code",
   "execution_count": 3,
   "metadata": {},
   "outputs": [],
   "source": [
    "# Constants\n",
    "plt.style.use(\"seaborn-whitegrid\")\n",
    "plt.rc(\"figure\", autolayout = True)\n",
    "plt.rc(\n",
    "    \"axes\",\n",
    "    labelweight = \"bold\",\n",
    "    labelsize = \"large\",\n",
    "    titleweight = \"bold\",\n",
    "    titlesize = 14,\n",
    "    titlepad = 10,\n",
    ")"
   ]
  },
  {
   "cell_type": "code",
   "execution_count": 9,
   "metadata": {},
   "outputs": [],
   "source": [
    "# Load Datasets\n",
    "accidents = pd.read_csv(r'C:\\Developer\\scratch-pad-python\\Datasets\\US_Accidents_Dec20.csv')\n",
    "autos = pd.read_csv(r'C:\\Developer\\scratch-pad-python\\Datasets\\Automobile_data.csv')\n",
    "concrete = pd.read_excel(r'C:\\Developer\\scratch-pad-python\\Datasets\\Concrete_Data.xls')\n",
    "customer = pd.read_csv(r'C:\\Developer\\scratch-pad-python\\Datasets\\Customer-Value-Analysis.csv')"
   ]
  }
 ]
}