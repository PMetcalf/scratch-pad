{
 "metadata": {
  "language_info": {
   "codemirror_mode": {
    "name": "ipython",
    "version": 3
   },
   "file_extension": ".py",
   "mimetype": "text/x-python",
   "name": "python",
   "nbconvert_exporter": "python",
   "pygments_lexer": "ipython3",
   "version": "3.6.6-final"
  },
  "orig_nbformat": 2,
  "kernelspec": {
   "name": "python3",
   "display_name": "Python 3.6.6 64-bit",
   "metadata": {
    "interpreter": {
     "hash": "3f92393cf9312ed24f4ccae2fdf5dee1635074d2034ccfaec2d070f8b1ae4f04"
    }
   }
  }
 },
 "nbformat": 4,
 "nbformat_minor": 2,
 "cells": [
  {
   "cell_type": "code",
   "execution_count": 9,
   "metadata": {},
   "outputs": [],
   "source": [
    "# Module Importations\n",
    "import matplotlib.pyplot as plt\n",
    "import numpy as np\n",
    "import pandas as pd\n",
    "import seaborn as sns"
   ]
  },
  {
   "cell_type": "code",
   "execution_count": 10,
   "metadata": {},
   "outputs": [],
   "source": [
    "# Constants\n",
    "plt.style.use(\"seaborn-whitegrid\")\n",
    "plt.rc(\"figure\", autolayout = True)\n",
    "plt.rc(\n",
    "    \"axes\",\n",
    "    labelweight = \"bold\",\n",
    "    labelsize = \"large\",\n",
    "    titleweight = \"bold\",\n",
    "    titlesize = 14,\n",
    "    titlepad = 10,\n",
    ")"
   ]
  },
  {
   "cell_type": "code",
   "execution_count": 11,
   "metadata": {},
   "outputs": [],
   "source": [
    "# Load Datasets\n",
    "accidents = pd.read_csv(r'C:\\Developer\\scratch-pad-python\\Datasets\\US_Accidents_Dec20.csv')\n",
    "autos = pd.read_csv(r'C:\\Developer\\scratch-pad-python\\Datasets\\Automobile_data.csv')\n",
    "concrete = pd.read_excel(r'C:\\Developer\\scratch-pad-python\\Datasets\\Concrete_Data.xls')\n",
    "customer = pd.read_csv(r'C:\\Developer\\scratch-pad-python\\Datasets\\Customer-Value-Analysis.csv')"
   ]
  },
  {
   "cell_type": "code",
   "execution_count": 12,
   "metadata": {},
   "outputs": [
    {
     "output_type": "execute_result",
     "data": {
      "text/plain": [
       "  stroke  bore  stroke_ratio\n",
       "0   2.68  3.47      0.772334\n",
       "1   2.68  3.47      0.772334\n",
       "2   3.47  2.68      1.294776\n",
       "3    3.4  3.19      1.065831\n",
       "4    3.4  3.19      1.065831"
      ],
      "text/html": "<div>\n<style scoped>\n    .dataframe tbody tr th:only-of-type {\n        vertical-align: middle;\n    }\n\n    .dataframe tbody tr th {\n        vertical-align: top;\n    }\n\n    .dataframe thead th {\n        text-align: right;\n    }\n</style>\n<table border=\"1\" class=\"dataframe\">\n  <thead>\n    <tr style=\"text-align: right;\">\n      <th></th>\n      <th>stroke</th>\n      <th>bore</th>\n      <th>stroke_ratio</th>\n    </tr>\n  </thead>\n  <tbody>\n    <tr>\n      <th>0</th>\n      <td>2.68</td>\n      <td>3.47</td>\n      <td>0.772334</td>\n    </tr>\n    <tr>\n      <th>1</th>\n      <td>2.68</td>\n      <td>3.47</td>\n      <td>0.772334</td>\n    </tr>\n    <tr>\n      <th>2</th>\n      <td>3.47</td>\n      <td>2.68</td>\n      <td>1.294776</td>\n    </tr>\n    <tr>\n      <th>3</th>\n      <td>3.4</td>\n      <td>3.19</td>\n      <td>1.065831</td>\n    </tr>\n    <tr>\n      <th>4</th>\n      <td>3.4</td>\n      <td>3.19</td>\n      <td>1.065831</td>\n    </tr>\n  </tbody>\n</table>\n</div>"
     },
     "metadata": {},
     "execution_count": 12
    }
   ],
   "source": [
    "# Mathematical Transforms - Relationships in mathematical forms\n",
    "\n",
    "# Deriving stroke ratio\n",
    "def return_stroke_ratio(stroke, bore):\n",
    "    try:\n",
    "        # Convert data type\n",
    "        stroke = float(stroke)\n",
    "        bore = float(bore)\n",
    "\n",
    "        # Calculate stroke ratio \n",
    "        stroke_ratio = stroke / bore\n",
    "\n",
    "    # Handle conversions that fail gracefully\n",
    "    except:\n",
    "        stroke_ratio = 0\n",
    "\n",
    "    return stroke_ratio \n",
    "\n",
    "autos['stroke_ratio'] = autos.apply(lambda row: return_stroke_ratio(row['stroke'], row['bore']), axis = 1) # Research identifies stroke ratio as useful parameter\n",
    "\n",
    "autos[['stroke', 'bore', 'stroke_ratio']].head()"
   ]
  },
  {
   "cell_type": "code",
   "execution_count": 13,
   "metadata": {},
   "outputs": [
    {
     "output_type": "execute_result",
     "data": {
      "text/plain": [
       "  stroke  bore num-of-cylinders  displacement\n",
       "0   2.68  3.47             four    101.377976\n",
       "1   2.68  3.47             four    101.377976\n",
       "2   3.47  2.68              six    117.446531\n",
       "3    3.4  3.19             four    108.695147\n",
       "4    3.4  3.19             five    135.868934"
      ],
      "text/html": "<div>\n<style scoped>\n    .dataframe tbody tr th:only-of-type {\n        vertical-align: middle;\n    }\n\n    .dataframe tbody tr th {\n        vertical-align: top;\n    }\n\n    .dataframe thead th {\n        text-align: right;\n    }\n</style>\n<table border=\"1\" class=\"dataframe\">\n  <thead>\n    <tr style=\"text-align: right;\">\n      <th></th>\n      <th>stroke</th>\n      <th>bore</th>\n      <th>num-of-cylinders</th>\n      <th>displacement</th>\n    </tr>\n  </thead>\n  <tbody>\n    <tr>\n      <th>0</th>\n      <td>2.68</td>\n      <td>3.47</td>\n      <td>four</td>\n      <td>101.377976</td>\n    </tr>\n    <tr>\n      <th>1</th>\n      <td>2.68</td>\n      <td>3.47</td>\n      <td>four</td>\n      <td>101.377976</td>\n    </tr>\n    <tr>\n      <th>2</th>\n      <td>3.47</td>\n      <td>2.68</td>\n      <td>six</td>\n      <td>117.446531</td>\n    </tr>\n    <tr>\n      <th>3</th>\n      <td>3.4</td>\n      <td>3.19</td>\n      <td>four</td>\n      <td>108.695147</td>\n    </tr>\n    <tr>\n      <th>4</th>\n      <td>3.4</td>\n      <td>3.19</td>\n      <td>five</td>\n      <td>135.868934</td>\n    </tr>\n  </tbody>\n</table>\n</div>"
     },
     "metadata": {},
     "execution_count": 13
    }
   ],
   "source": [
    "# Mathematical Transforms - Relationships in mathematical forms\n",
    "\n",
    "# Deriving displacement\n",
    "def return_displacement(stroke, bore, num_of_cylinders):\n",
    "    try:\n",
    "        # Convert data types\n",
    "        stroke = float(stroke)\n",
    "        bore = float(bore)\n",
    "        cylinders_int = 0\n",
    "\n",
    "        numbers_dict = {\"two\": 2, \"three\": 3, \"four\": 4, \"five\": 5, \"six\": 6, \"eight\": 8, \"ten\": 10, \"twelve\": 12}\n",
    "        for key, value in numbers_dict.items():\n",
    "            if num_of_cylinders == key:\n",
    "                cylinders_int = value\n",
    "\n",
    "        # Calculate displacement\n",
    "        displacement = np.pi * ((0.5 * bore) ** 2) * stroke * cylinders_int\n",
    "\n",
    "    # Handle conversions that fail\n",
    "    except:\n",
    "        displacement = 0\n",
    "\n",
    "    return displacement\n",
    "\n",
    "autos['displacement'] = autos.apply(lambda row: return_displacement(row['stroke'], row['bore'], row['num-of-cylinders']), axis = 1) # Displacement can also be a useful parameter\n",
    "\n",
    "autos[['stroke', 'bore', 'num-of-cylinders', 'displacement']].head()"
   ]
  },
  {
   "cell_type": "code",
   "execution_count": 18,
   "metadata": {},
   "outputs": [
    {
     "output_type": "stream",
     "name": "stdout",
     "text": [
      "<class 'pandas.core.frame.DataFrame'>\nRangeIndex: 4232541 entries, 0 to 4232540\nData columns (total 50 columns):\n #   Column                 Dtype  \n---  ------                 -----  \n 0   ID                     object \n 1   Source                 object \n 2   TMC                    float64\n 3   Severity               int64  \n 4   Start_Time             object \n 5   End_Time               object \n 6   Start_Lat              float64\n 7   Start_Lng              float64\n 8   End_Lat                float64\n 9   End_Lng                float64\n 10  Distance(mi)           float64\n 11  Description            object \n 12  Number                 float64\n 13  Street                 object \n 14  Side                   object \n 15  City                   object \n 16  County                 object \n 17  State                  object \n 18  Zipcode                object \n 19  Country                object \n 20  Timezone               object \n 21  Airport_Code           object \n 22  Weather_Timestamp      object \n 23  Temperature(F)         float64\n 24  Wind_Chill(F)          float64\n 25  Humidity(%)            float64\n 26  Pressure(in)           float64\n 27  Visibility(mi)         float64\n 28  Wind_Direction         object \n 29  Wind_Speed(mph)        float64\n 30  Precipitation(in)      float64\n 31  Weather_Condition      object \n 32  Amenity                bool   \n 33  Bump                   bool   \n 34  Crossing               bool   \n 35  Give_Way               bool   \n 36  Junction               bool   \n 37  No_Exit                bool   \n 38  Railway                bool   \n 39  Roundabout             bool   \n 40  Station                bool   \n 41  Stop                   bool   \n 42  Traffic_Calming        bool   \n 43  Traffic_Signal         bool   \n 44  Turning_Loop           bool   \n 45  Sunrise_Sunset         object \n 46  Civil_Twilight         object \n 47  Nautical_Twilight      object \n 48  Astronomical_Twilight  object \n 49  LogWindSpeed           float64\ndtypes: bool(13), float64(15), int64(1), object(21)\nmemory usage: 1.2+ GB\n"
     ]
    }
   ],
   "source": [
    "accidents.info()"
   ]
  },
  {
   "cell_type": "code",
   "execution_count": 17,
   "metadata": {},
   "outputs": [
    {
     "output_type": "execute_result",
     "data": {
      "text/plain": [
       "    ID    Source    TMC  Severity           Start_Time             End_Time  \\\n",
       "0  A-1  MapQuest  201.0         3  2016-02-08 05:46:00  2016-02-08 11:00:00   \n",
       "1  A-2  MapQuest  201.0         2  2016-02-08 06:07:59  2016-02-08 06:37:59   \n",
       "2  A-3  MapQuest  201.0         2  2016-02-08 06:49:27  2016-02-08 07:19:27   \n",
       "3  A-4  MapQuest  201.0         3  2016-02-08 07:23:34  2016-02-08 07:53:34   \n",
       "4  A-5  MapQuest  201.0         2  2016-02-08 07:39:07  2016-02-08 08:09:07   \n",
       "\n",
       "   Start_Lat  Start_Lng  End_Lat  End_Lng  ...  Station   Stop  \\\n",
       "0  39.865147 -84.058723      NaN      NaN  ...    False  False   \n",
       "1  39.928059 -82.831184      NaN      NaN  ...    False  False   \n",
       "2  39.063148 -84.032608      NaN      NaN  ...    False  False   \n",
       "3  39.747753 -84.205582      NaN      NaN  ...    False  False   \n",
       "4  39.627781 -84.188354      NaN      NaN  ...    False  False   \n",
       "\n",
       "   Traffic_Calming Traffic_Signal Turning_Loop Sunrise_Sunset Civil_Twilight  \\\n",
       "0            False          False        False          Night          Night   \n",
       "1            False          False        False          Night          Night   \n",
       "2            False           True        False          Night          Night   \n",
       "3            False          False        False          Night            Day   \n",
       "4            False           True        False            Day            Day   \n",
       "\n",
       "  Nautical_Twilight Astronomical_Twilight LogWindSpeed  \n",
       "0             Night                 Night          NaN  \n",
       "1             Night                   Day          NaN  \n",
       "2               Day                   Day     1.504077  \n",
       "3               Day                   Day     1.722767  \n",
       "4               Day                   Day     1.504077  \n",
       "\n",
       "[5 rows x 50 columns]"
      ],
      "text/html": "<div>\n<style scoped>\n    .dataframe tbody tr th:only-of-type {\n        vertical-align: middle;\n    }\n\n    .dataframe tbody tr th {\n        vertical-align: top;\n    }\n\n    .dataframe thead th {\n        text-align: right;\n    }\n</style>\n<table border=\"1\" class=\"dataframe\">\n  <thead>\n    <tr style=\"text-align: right;\">\n      <th></th>\n      <th>ID</th>\n      <th>Source</th>\n      <th>TMC</th>\n      <th>Severity</th>\n      <th>Start_Time</th>\n      <th>End_Time</th>\n      <th>Start_Lat</th>\n      <th>Start_Lng</th>\n      <th>End_Lat</th>\n      <th>End_Lng</th>\n      <th>...</th>\n      <th>Station</th>\n      <th>Stop</th>\n      <th>Traffic_Calming</th>\n      <th>Traffic_Signal</th>\n      <th>Turning_Loop</th>\n      <th>Sunrise_Sunset</th>\n      <th>Civil_Twilight</th>\n      <th>Nautical_Twilight</th>\n      <th>Astronomical_Twilight</th>\n      <th>LogWindSpeed</th>\n    </tr>\n  </thead>\n  <tbody>\n    <tr>\n      <th>0</th>\n      <td>A-1</td>\n      <td>MapQuest</td>\n      <td>201.0</td>\n      <td>3</td>\n      <td>2016-02-08 05:46:00</td>\n      <td>2016-02-08 11:00:00</td>\n      <td>39.865147</td>\n      <td>-84.058723</td>\n      <td>NaN</td>\n      <td>NaN</td>\n      <td>...</td>\n      <td>False</td>\n      <td>False</td>\n      <td>False</td>\n      <td>False</td>\n      <td>False</td>\n      <td>Night</td>\n      <td>Night</td>\n      <td>Night</td>\n      <td>Night</td>\n      <td>NaN</td>\n    </tr>\n    <tr>\n      <th>1</th>\n      <td>A-2</td>\n      <td>MapQuest</td>\n      <td>201.0</td>\n      <td>2</td>\n      <td>2016-02-08 06:07:59</td>\n      <td>2016-02-08 06:37:59</td>\n      <td>39.928059</td>\n      <td>-82.831184</td>\n      <td>NaN</td>\n      <td>NaN</td>\n      <td>...</td>\n      <td>False</td>\n      <td>False</td>\n      <td>False</td>\n      <td>False</td>\n      <td>False</td>\n      <td>Night</td>\n      <td>Night</td>\n      <td>Night</td>\n      <td>Day</td>\n      <td>NaN</td>\n    </tr>\n    <tr>\n      <th>2</th>\n      <td>A-3</td>\n      <td>MapQuest</td>\n      <td>201.0</td>\n      <td>2</td>\n      <td>2016-02-08 06:49:27</td>\n      <td>2016-02-08 07:19:27</td>\n      <td>39.063148</td>\n      <td>-84.032608</td>\n      <td>NaN</td>\n      <td>NaN</td>\n      <td>...</td>\n      <td>False</td>\n      <td>False</td>\n      <td>False</td>\n      <td>True</td>\n      <td>False</td>\n      <td>Night</td>\n      <td>Night</td>\n      <td>Day</td>\n      <td>Day</td>\n      <td>1.504077</td>\n    </tr>\n    <tr>\n      <th>3</th>\n      <td>A-4</td>\n      <td>MapQuest</td>\n      <td>201.0</td>\n      <td>3</td>\n      <td>2016-02-08 07:23:34</td>\n      <td>2016-02-08 07:53:34</td>\n      <td>39.747753</td>\n      <td>-84.205582</td>\n      <td>NaN</td>\n      <td>NaN</td>\n      <td>...</td>\n      <td>False</td>\n      <td>False</td>\n      <td>False</td>\n      <td>False</td>\n      <td>False</td>\n      <td>Night</td>\n      <td>Day</td>\n      <td>Day</td>\n      <td>Day</td>\n      <td>1.722767</td>\n    </tr>\n    <tr>\n      <th>4</th>\n      <td>A-5</td>\n      <td>MapQuest</td>\n      <td>201.0</td>\n      <td>2</td>\n      <td>2016-02-08 07:39:07</td>\n      <td>2016-02-08 08:09:07</td>\n      <td>39.627781</td>\n      <td>-84.188354</td>\n      <td>NaN</td>\n      <td>NaN</td>\n      <td>...</td>\n      <td>False</td>\n      <td>False</td>\n      <td>False</td>\n      <td>True</td>\n      <td>False</td>\n      <td>Day</td>\n      <td>Day</td>\n      <td>Day</td>\n      <td>Day</td>\n      <td>1.504077</td>\n    </tr>\n  </tbody>\n</table>\n<p>5 rows × 50 columns</p>\n</div>"
     },
     "metadata": {},
     "execution_count": 17
    }
   ],
   "source": [
    "# Visualising Data\n",
    "\n",
    "# Transforming zero values for accidents windspeed\n",
    "\n",
    "# If the feature has 0.0 values, use np.log1p (log(1+x)) instead of np.log\n",
    "accidents['LogWindSpeed'] = accidents['Wind_Speed(mph)'].apply(np.log1p)\n",
    "\n",
    "accidents.head()"
   ]
  },
  {
   "cell_type": "code",
   "execution_count": null,
   "metadata": {},
   "outputs": [],
   "source": []
  }
 ]
}