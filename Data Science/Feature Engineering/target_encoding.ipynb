{
 "metadata": {
  "language_info": {
   "codemirror_mode": {
    "name": "ipython",
    "version": 3
   },
   "file_extension": ".py",
   "mimetype": "text/x-python",
   "name": "python",
   "nbconvert_exporter": "python",
   "pygments_lexer": "ipython3",
   "version": "3.6.6"
  },
  "orig_nbformat": 2,
  "kernelspec": {
   "name": "python36664bitd546b3131dc04b45b27adb02c244c21c",
   "display_name": "Python 3.6.6 64-bit"
  },
  "metadata": {
   "interpreter": {
    "hash": "3f92393cf9312ed24f4ccae2fdf5dee1635074d2034ccfaec2d070f8b1ae4f04"
   }
  }
 },
 "nbformat": 4,
 "nbformat_minor": 2,
 "cells": [
  {
   "source": [
    "# Target Encoding\n",
    "\n",
    "Target encoding is similar to one-hot or label encoding, but uses features and this makes it a supervised feature engineering technique."
   ],
   "cell_type": "markdown",
   "metadata": {}
  },
  {
   "cell_type": "code",
   "execution_count": 1,
   "metadata": {},
   "outputs": [],
   "source": [
    "# Module importations\n",
    "import pandas as pd"
   ]
  },
  {
   "cell_type": "code",
   "execution_count": 2,
   "metadata": {},
   "outputs": [],
   "source": [
    "# Load data\n",
    "autos = pd.read_csv(r'C:\\Developer\\scratch-pad-python\\Datasets\\Automobile_data.csv')"
   ]
  },
  {
   "source": [
    "A target encoding replaces a feature's categories with a number derived from the target, such as applying the average price to each vehicle's make."
   ],
   "cell_type": "markdown",
   "metadata": {}
  },
  {
   "cell_type": "code",
   "execution_count": 6,
   "metadata": {},
   "outputs": [
    {
     "output_type": "stream",
     "name": "stdout",
     "text": [
      "<class 'pandas.core.frame.DataFrame'>\nRangeIndex: 205 entries, 0 to 204\nData columns (total 26 columns):\n #   Column             Non-Null Count  Dtype  \n---  ------             --------------  -----  \n 0   symboling          205 non-null    int64  \n 1   normalized-losses  205 non-null    object \n 2   make               205 non-null    object \n 3   fuel-type          205 non-null    object \n 4   aspiration         205 non-null    object \n 5   num-of-doors       205 non-null    object \n 6   body-style         205 non-null    object \n 7   drive-wheels       205 non-null    object \n 8   engine-location    205 non-null    object \n 9   wheel-base         205 non-null    float64\n 10  length             205 non-null    float64\n 11  width              205 non-null    float64\n 12  height             205 non-null    float64\n 13  curb-weight        205 non-null    int64  \n 14  engine-type        205 non-null    object \n 15  num-of-cylinders   205 non-null    object \n 16  engine-size        205 non-null    int64  \n 17  fuel-system        205 non-null    object \n 18  bore               205 non-null    object \n 19  stroke             205 non-null    object \n 20  compression-ratio  205 non-null    float64\n 21  horsepower         205 non-null    object \n 22  peak-rpm           205 non-null    object \n 23  city-mpg           205 non-null    int64  \n 24  highway-mpg        205 non-null    int64  \n 25  price              205 non-null    float64\ndtypes: float64(6), int64(5), object(15)\nmemory usage: 41.8+ KB\n"
     ]
    }
   ],
   "source": [
    "autos.info()"
   ]
  },
  {
   "cell_type": "code",
   "execution_count": 5,
   "metadata": {},
   "outputs": [],
   "source": [
    "# Convert inappropriate data types\n",
    "def convert_to_numeric(data_element):\n",
    "    \n",
    "    try:\n",
    "        numeric_data = float(data_element)\n",
    "\n",
    "    except:\n",
    "        numeric_data = 0\n",
    "\n",
    "    return numeric_data\n",
    "\n",
    "autos['price'] = autos.apply(lambda row: convert_to_numeric(row['price']), axis = 1)"
   ]
  },
  {
   "cell_type": "code",
   "execution_count": 11,
   "metadata": {},
   "outputs": [],
   "source": [
    "# Populate zero values with column mean\n",
    "def populate_zero_with_mean(column_name, value):\n",
    "\n",
    "    if value == 0:\n",
    "\n",
    "        value = autos[column_name].mean()\n",
    "\n",
    "    else:\n",
    "        value = value\n",
    "\n",
    "    return value\n",
    "\n",
    "autos['price'] = autos.apply(lambda row: populate_zero_with_mean(column_name = 'price', value = row['price']), axis = 1)"
   ]
  },
  {
   "cell_type": "code",
   "execution_count": 12,
   "metadata": {},
   "outputs": [
    {
     "output_type": "execute_result",
     "data": {
      "text/plain": [
       "          make         price  make_encoded\n",
       "0  alfa-romero  13495.000000  15498.333333\n",
       "1  alfa-romero  16500.000000  15498.333333\n",
       "2  alfa-romero  16500.000000  15498.333333\n",
       "3         audi  13950.000000  17157.775610\n",
       "4         audi  17450.000000  17157.775610\n",
       "5         audi  15250.000000  17157.775610\n",
       "6         audi  17710.000000  17157.775610\n",
       "7         audi  18920.000000  17157.775610\n",
       "8         audi  23875.000000  17157.775610\n",
       "9         audi  12949.429268  17157.775610"
      ],
      "text/html": "<div>\n<style scoped>\n    .dataframe tbody tr th:only-of-type {\n        vertical-align: middle;\n    }\n\n    .dataframe tbody tr th {\n        vertical-align: top;\n    }\n\n    .dataframe thead th {\n        text-align: right;\n    }\n</style>\n<table border=\"1\" class=\"dataframe\">\n  <thead>\n    <tr style=\"text-align: right;\">\n      <th></th>\n      <th>make</th>\n      <th>price</th>\n      <th>make_encoded</th>\n    </tr>\n  </thead>\n  <tbody>\n    <tr>\n      <th>0</th>\n      <td>alfa-romero</td>\n      <td>13495.000000</td>\n      <td>15498.333333</td>\n    </tr>\n    <tr>\n      <th>1</th>\n      <td>alfa-romero</td>\n      <td>16500.000000</td>\n      <td>15498.333333</td>\n    </tr>\n    <tr>\n      <th>2</th>\n      <td>alfa-romero</td>\n      <td>16500.000000</td>\n      <td>15498.333333</td>\n    </tr>\n    <tr>\n      <th>3</th>\n      <td>audi</td>\n      <td>13950.000000</td>\n      <td>17157.775610</td>\n    </tr>\n    <tr>\n      <th>4</th>\n      <td>audi</td>\n      <td>17450.000000</td>\n      <td>17157.775610</td>\n    </tr>\n    <tr>\n      <th>5</th>\n      <td>audi</td>\n      <td>15250.000000</td>\n      <td>17157.775610</td>\n    </tr>\n    <tr>\n      <th>6</th>\n      <td>audi</td>\n      <td>17710.000000</td>\n      <td>17157.775610</td>\n    </tr>\n    <tr>\n      <th>7</th>\n      <td>audi</td>\n      <td>18920.000000</td>\n      <td>17157.775610</td>\n    </tr>\n    <tr>\n      <th>8</th>\n      <td>audi</td>\n      <td>23875.000000</td>\n      <td>17157.775610</td>\n    </tr>\n    <tr>\n      <th>9</th>\n      <td>audi</td>\n      <td>12949.429268</td>\n      <td>17157.775610</td>\n    </tr>\n  </tbody>\n</table>\n</div>"
     },
     "metadata": {},
     "execution_count": 12
    }
   ],
   "source": [
    "# Create a target encoding on each make's mean price\n",
    "autos['make_encoded'] = autos.groupby('make')['price'].transform('mean')\n",
    "\n",
    "autos[['make', 'price', 'make_encoded']].head(10)"
   ]
  },
  {
   "cell_type": "code",
   "execution_count": null,
   "metadata": {},
   "outputs": [],
   "source": []
  }
 ]
}