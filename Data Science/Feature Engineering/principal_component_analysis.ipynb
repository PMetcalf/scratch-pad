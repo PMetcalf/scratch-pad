{
 "metadata": {
  "language_info": {
   "codemirror_mode": {
    "name": "ipython",
    "version": 3
   },
   "file_extension": ".py",
   "mimetype": "text/x-python",
   "name": "python",
   "nbconvert_exporter": "python",
   "pygments_lexer": "ipython3",
   "version": "3.6.6"
  },
  "orig_nbformat": 2,
  "kernelspec": {
   "name": "python3",
   "display_name": "Python 3.6.6 64-bit",
   "metadata": {
    "interpreter": {
     "hash": "3f92393cf9312ed24f4ccae2fdf5dee1635074d2034ccfaec2d070f8b1ae4f04"
    }
   }
  }
 },
 "nbformat": 4,
 "nbformat_minor": 2,
 "cells": [
  {
   "cell_type": "code",
   "execution_count": 6,
   "metadata": {},
   "outputs": [],
   "source": [
    "# Module importations\n",
    "from IPython.display import display\n",
    "import matplotlib.pyplot as plt\n",
    "import numpy as np\n",
    "import pandas as pd\n",
    "import seaborn as sns\n",
    "from sklearn.feature_selection import mutual_info_regression"
   ]
  },
  {
   "cell_type": "code",
   "execution_count": 7,
   "metadata": {},
   "outputs": [],
   "source": [
    "# Constants / Settings\n",
    "plt.style.use('seaborn-whitegrid')\n",
    "\n",
    "plt.rc('figure', autolayout = True)\n",
    "plt.rc(\n",
    "    'axes',\n",
    "    labelweight = 'bold',\n",
    "    labelsize = 'large',\n",
    "    titleweight = 'bold',\n",
    "    titlesize = 14,\n",
    "    titlepad = 10\n",
    ")"
   ]
  },
  {
   "cell_type": "code",
   "execution_count": 11,
   "metadata": {},
   "outputs": [],
   "source": [
    "# Plot builder helper method\n",
    "def plot_variance(pca, width = 8, dpi = 100):\n",
    "\n",
    "    # Initialise figure\n",
    "    fig, axs = plt.subplots(1, 2)\n",
    "    n = pca.n_components_\n",
    "    grid = np.arange(1, n + 1)\n",
    "\n",
    "    # Explained variance\n",
    "    evr = pca.explained_variance_ratio_\n",
    "    axs[0].bar(grid, evr)\n",
    "    axs[0].set(xlabel = 'Component', title = '% Explained Variance', ylim = (0.0, 1.0))\n",
    "\n",
    "    # Cumulative variance\n",
    "    cv = np.cumsum(evr)\n",
    "    axs[1].plot(np.r_[0, grid], np.r_[0, cv], 'o-')\n",
    "    axs[1].set(xlabel = 'Component', title = '% Cumulative Variance', ylim = (0.0, 1.0))\n",
    "\n",
    "    # Build figure\n",
    "    fig.set(figwidth = 8, dpi = 100)\n",
    "    return axs    "
   ]
  },
  {
   "cell_type": "code",
   "execution_count": 12,
   "metadata": {},
   "outputs": [],
   "source": [
    "# Make MI scores helper method\n",
    "def make_mi_scores(X, y, discrete_figures):\n",
    "\n",
    "    # Develop scores using regression\n",
    "    mi_scores = mutual_info_regression(X, y, discrete_figures = discrete_figures)\n",
    "\n",
    "    # Convert to data series\n",
    "    mi_scores = pd.Series(mi_scores, name = 'MI Scores', index = X.columns)\n",
    "\n",
    "    # Sort and return\n",
    "    mi_scores = mi_scores.sort_values(ascending = False)\n",
    "    return mi_scores"
   ]
  },
  {
   "cell_type": "code",
   "execution_count": 13,
   "metadata": {},
   "outputs": [],
   "source": [
    "# Load data\n",
    "autos = pd.read_csv(r'C:\\Developer\\scratch-pad-python\\Datasets\\Automobile_data.csv')"
   ]
  },
  {
   "cell_type": "code",
   "execution_count": 14,
   "metadata": {},
   "outputs": [
    {
     "output_type": "stream",
     "name": "stdout",
     "text": [
      "<class 'pandas.core.frame.DataFrame'>\nRangeIndex: 205 entries, 0 to 204\nData columns (total 26 columns):\n #   Column             Non-Null Count  Dtype  \n---  ------             --------------  -----  \n 0   symboling          205 non-null    int64  \n 1   normalized-losses  205 non-null    object \n 2   make               205 non-null    object \n 3   fuel-type          205 non-null    object \n 4   aspiration         205 non-null    object \n 5   num-of-doors       205 non-null    object \n 6   body-style         205 non-null    object \n 7   drive-wheels       205 non-null    object \n 8   engine-location    205 non-null    object \n 9   wheel-base         205 non-null    float64\n 10  length             205 non-null    float64\n 11  width              205 non-null    float64\n 12  height             205 non-null    float64\n 13  curb-weight        205 non-null    int64  \n 14  engine-type        205 non-null    object \n 15  num-of-cylinders   205 non-null    object \n 16  engine-size        205 non-null    int64  \n 17  fuel-system        205 non-null    object \n 18  bore               205 non-null    object \n 19  stroke             205 non-null    object \n 20  compression-ratio  205 non-null    float64\n 21  horsepower         205 non-null    object \n 22  peak-rpm           205 non-null    object \n 23  city-mpg           205 non-null    int64  \n 24  highway-mpg        205 non-null    int64  \n 25  price              205 non-null    object \ndtypes: float64(5), int64(5), object(16)\nmemory usage: 41.8+ KB\n"
     ]
    }
   ],
   "source": [
    "autos.info()"
   ]
  },
  {
   "cell_type": "code",
   "execution_count": 15,
   "metadata": {},
   "outputs": [
    {
     "output_type": "execute_result",
     "data": {
      "text/plain": [
       "                   count         mean         std     min     25%     50%  \\\n",
       "symboling          205.0     0.834146    1.245307    -2.0     0.0     1.0   \n",
       "wheel-base         205.0    98.756585    6.021776    86.6    94.5    97.0   \n",
       "length             205.0   174.049268   12.337289   141.1   166.3   173.2   \n",
       "width              205.0    65.907805    2.145204    60.3    64.1    65.5   \n",
       "height             205.0    53.724878    2.443522    47.8    52.0    54.1   \n",
       "curb-weight        205.0  2555.565854  520.680204  1488.0  2145.0  2414.0   \n",
       "engine-size        205.0   126.907317   41.642693    61.0    97.0   120.0   \n",
       "compression-ratio  205.0    10.142537    3.972040     7.0     8.6     9.0   \n",
       "city-mpg           205.0    25.219512    6.542142    13.0    19.0    24.0   \n",
       "highway-mpg        205.0    30.751220    6.886443    16.0    25.0    30.0   \n",
       "\n",
       "                      75%     max  \n",
       "symboling             2.0     3.0  \n",
       "wheel-base          102.4   120.9  \n",
       "length              183.1   208.1  \n",
       "width                66.9    72.3  \n",
       "height               55.5    59.8  \n",
       "curb-weight        2935.0  4066.0  \n",
       "engine-size         141.0   326.0  \n",
       "compression-ratio     9.4    23.0  \n",
       "city-mpg             30.0    49.0  \n",
       "highway-mpg          34.0    54.0  "
      ],
      "text/html": "<div>\n<style scoped>\n    .dataframe tbody tr th:only-of-type {\n        vertical-align: middle;\n    }\n\n    .dataframe tbody tr th {\n        vertical-align: top;\n    }\n\n    .dataframe thead th {\n        text-align: right;\n    }\n</style>\n<table border=\"1\" class=\"dataframe\">\n  <thead>\n    <tr style=\"text-align: right;\">\n      <th></th>\n      <th>count</th>\n      <th>mean</th>\n      <th>std</th>\n      <th>min</th>\n      <th>25%</th>\n      <th>50%</th>\n      <th>75%</th>\n      <th>max</th>\n    </tr>\n  </thead>\n  <tbody>\n    <tr>\n      <th>symboling</th>\n      <td>205.0</td>\n      <td>0.834146</td>\n      <td>1.245307</td>\n      <td>-2.0</td>\n      <td>0.0</td>\n      <td>1.0</td>\n      <td>2.0</td>\n      <td>3.0</td>\n    </tr>\n    <tr>\n      <th>wheel-base</th>\n      <td>205.0</td>\n      <td>98.756585</td>\n      <td>6.021776</td>\n      <td>86.6</td>\n      <td>94.5</td>\n      <td>97.0</td>\n      <td>102.4</td>\n      <td>120.9</td>\n    </tr>\n    <tr>\n      <th>length</th>\n      <td>205.0</td>\n      <td>174.049268</td>\n      <td>12.337289</td>\n      <td>141.1</td>\n      <td>166.3</td>\n      <td>173.2</td>\n      <td>183.1</td>\n      <td>208.1</td>\n    </tr>\n    <tr>\n      <th>width</th>\n      <td>205.0</td>\n      <td>65.907805</td>\n      <td>2.145204</td>\n      <td>60.3</td>\n      <td>64.1</td>\n      <td>65.5</td>\n      <td>66.9</td>\n      <td>72.3</td>\n    </tr>\n    <tr>\n      <th>height</th>\n      <td>205.0</td>\n      <td>53.724878</td>\n      <td>2.443522</td>\n      <td>47.8</td>\n      <td>52.0</td>\n      <td>54.1</td>\n      <td>55.5</td>\n      <td>59.8</td>\n    </tr>\n    <tr>\n      <th>curb-weight</th>\n      <td>205.0</td>\n      <td>2555.565854</td>\n      <td>520.680204</td>\n      <td>1488.0</td>\n      <td>2145.0</td>\n      <td>2414.0</td>\n      <td>2935.0</td>\n      <td>4066.0</td>\n    </tr>\n    <tr>\n      <th>engine-size</th>\n      <td>205.0</td>\n      <td>126.907317</td>\n      <td>41.642693</td>\n      <td>61.0</td>\n      <td>97.0</td>\n      <td>120.0</td>\n      <td>141.0</td>\n      <td>326.0</td>\n    </tr>\n    <tr>\n      <th>compression-ratio</th>\n      <td>205.0</td>\n      <td>10.142537</td>\n      <td>3.972040</td>\n      <td>7.0</td>\n      <td>8.6</td>\n      <td>9.0</td>\n      <td>9.4</td>\n      <td>23.0</td>\n    </tr>\n    <tr>\n      <th>city-mpg</th>\n      <td>205.0</td>\n      <td>25.219512</td>\n      <td>6.542142</td>\n      <td>13.0</td>\n      <td>19.0</td>\n      <td>24.0</td>\n      <td>30.0</td>\n      <td>49.0</td>\n    </tr>\n    <tr>\n      <th>highway-mpg</th>\n      <td>205.0</td>\n      <td>30.751220</td>\n      <td>6.886443</td>\n      <td>16.0</td>\n      <td>25.0</td>\n      <td>30.0</td>\n      <td>34.0</td>\n      <td>54.0</td>\n    </tr>\n  </tbody>\n</table>\n</div>"
     },
     "metadata": {},
     "execution_count": 15
    }
   ],
   "source": [
    "autos.describe().T"
   ]
  },
  {
   "cell_type": "code",
   "execution_count": 16,
   "metadata": {},
   "outputs": [],
   "source": [
    "# Select and standardise a small number of features with high Mutual Information\n",
    "features = ['highway-mpg', 'engine-size', 'horsepower', 'curb-weight']\n",
    "\n",
    "# Create training and target datasets\n",
    "X = autos.copy()\n",
    "y = X.pop('price')\n",
    "X = X.loc[:, features]\n",
    "\n",
    "# Standardise features\n",
    "X_scaled = (X - X.mean(axis = 0)) / X.std(axis = 0)"
   ]
  },
  {
   "cell_type": "code",
   "execution_count": null,
   "metadata": {},
   "outputs": [],
   "source": []
  }
 ]
}